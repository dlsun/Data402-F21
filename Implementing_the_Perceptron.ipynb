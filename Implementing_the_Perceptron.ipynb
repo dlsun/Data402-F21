{
  "nbformat": 4,
  "nbformat_minor": 0,
  "metadata": {
    "colab": {
      "name": "Implementing the Perceptron",
      "provenance": [],
      "collapsed_sections": [],
      "authorship_tag": "ABX9TyNgknF+omO3jwIOcbahQfN5",
      "include_colab_link": true
    },
    "kernelspec": {
      "name": "python3",
      "display_name": "Python 3"
    },
    "language_info": {
      "name": "python"
    }
  },
  "cells": [
    {
      "cell_type": "markdown",
      "metadata": {
        "id": "view-in-github",
        "colab_type": "text"
      },
      "source": [
        "<a href=\"https://colab.research.google.com/github/dlsun/Data402-F21/blob/main/Implementing_the_Perceptron.ipynb\" target=\"_parent\"><img src=\"https://colab.research.google.com/assets/colab-badge.svg\" alt=\"Open In Colab\"/></a>"
      ]
    },
    {
      "cell_type": "markdown",
      "metadata": {
        "id": "qfJyvS9W8L0a"
      },
      "source": [
        "# Implementing the Perceptron"
      ]
    },
    {
      "cell_type": "code",
      "metadata": {
        "id": "LNkhfVSb4NBH"
      },
      "source": [
        "import numpy as np\n",
        "import pandas as pd\n",
        "\n",
        "df = pd.read_csv(\"https://raw.githubusercontent.com/dlsun/pods/master/data/breast-cancer.csv\")\n",
        "df.head()"
      ],
      "execution_count": null,
      "outputs": []
    },
    {
      "cell_type": "code",
      "metadata": {
        "id": "PVh1w9sq8Kh7"
      },
      "source": [
        "X = df.loc[:, \"Clump Thickness\":\"Mitoses\"]\n",
        "y = df[\"Class\"]\n",
        "y = 2 * y - 1  # convert 0/1 values to -1/+1"
      ],
      "execution_count": null,
      "outputs": []
    },
    {
      "cell_type": "markdown",
      "metadata": {
        "id": "nd_8kTJR-tFg"
      },
      "source": [
        "## Fit Model in Scikit-Learn"
      ]
    },
    {
      "cell_type": "code",
      "metadata": {
        "id": "QKaN--f69NC6"
      },
      "source": [
        "from sklearn.linear_model import LinearRegression\n",
        "\n",
        "model = LinearRegression()\n",
        "model.fit(X, y)\n",
        "model.intercept_, model.coef_"
      ],
      "execution_count": null,
      "outputs": []
    },
    {
      "cell_type": "markdown",
      "metadata": {
        "id": "FGq6NF5eN-ut"
      },
      "source": [
        "## Implement Closed-Form Solution"
      ]
    },
    {
      "cell_type": "code",
      "metadata": {
        "id": "GZ4Ozo8FOKIu"
      },
      "source": [
        "# TODO: implement closed form solution"
      ],
      "execution_count": null,
      "outputs": []
    },
    {
      "cell_type": "markdown",
      "metadata": {
        "id": "9u6KX9xP99MI"
      },
      "source": [
        "## Implement Gradient Descent"
      ]
    },
    {
      "cell_type": "code",
      "metadata": {
        "id": "g7NgP8Oq97uP"
      },
      "source": [
        "n, p = X.shape\n",
        "\n",
        "# initialize alpha and betas\n",
        "alpha = 0\n",
        "betas = np.zeros(p)\n",
        "\n",
        "# gradient descent\n",
        "learning_rate = 0.1\n",
        "for _ in range(1000):\n",
        "  # TODO: implement gradient descent here\n",
        "  continue\n",
        "\n",
        "alpha, betas"
      ],
      "execution_count": null,
      "outputs": []
    },
    {
      "cell_type": "markdown",
      "metadata": {
        "id": "64CiuDXVOCsF"
      },
      "source": [
        "## Implement Stochastic Gradient Descent"
      ]
    },
    {
      "cell_type": "code",
      "metadata": {
        "id": "hw5Ow82dOCjr"
      },
      "source": [
        "n, p = X.shape\n",
        "\n",
        "# initialize alpha and betas\n",
        "alpha = 0\n",
        "betas = np.zeros(p)\n",
        "\n",
        "# gradient descent\n",
        "learning_rate = 0.1\n",
        "for epoch in range(10):\n",
        "  for i in range(n):\n",
        "    # TODO: implement stochastic gradient descent\n",
        "    xi = X.loc[i]  # observation i\n",
        "    continue\n",
        "\n",
        "alpha, betas"
      ],
      "execution_count": null,
      "outputs": []
    }
  ]
}