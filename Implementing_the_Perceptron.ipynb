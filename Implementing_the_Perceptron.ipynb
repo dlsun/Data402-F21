{
  "nbformat": 4,
  "nbformat_minor": 0,
  "metadata": {
    "colab": {
      "name": "Implementing the Perceptron",
      "provenance": [],
      "collapsed_sections": [],
      "authorship_tag": "ABX9TyNZ1fey00YEsAn7+kSv4F+0",
      "include_colab_link": true
    },
    "kernelspec": {
      "name": "python3",
      "display_name": "Python 3"
    },
    "language_info": {
      "name": "python"
    }
  },
  "cells": [
    {
      "cell_type": "markdown",
      "metadata": {
        "id": "view-in-github",
        "colab_type": "text"
      },
      "source": [
        "<a href=\"https://colab.research.google.com/github/dlsun/Data402-F21/blob/main/Implementing_the_Perceptron.ipynb\" target=\"_parent\"><img src=\"https://colab.research.google.com/assets/colab-badge.svg\" alt=\"Open In Colab\"/></a>"
      ]
    },
    {
      "cell_type": "markdown",
      "metadata": {
        "id": "qfJyvS9W8L0a"
      },
      "source": [
        "# Implementing the Perceptron"
      ]
    },
    {
      "cell_type": "code",
      "metadata": {
        "id": "LNkhfVSb4NBH",
        "outputId": "97454f1f-0d53-498f-f546-108820944715",
        "colab": {
          "base_uri": "https://localhost:8080/",
          "height": 237
        }
      },
      "source": [
        "import numpy as np\n",
        "import pandas as pd\n",
        "\n",
        "df = pd.read_csv(\"https://raw.githubusercontent.com/dlsun/pods/master/data/breast-cancer.csv\")\n",
        "df.head()"
      ],
      "execution_count": 1,
      "outputs": [
        {
          "output_type": "execute_result",
          "data": {
            "text/html": [
              "<div>\n",
              "<style scoped>\n",
              "    .dataframe tbody tr th:only-of-type {\n",
              "        vertical-align: middle;\n",
              "    }\n",
              "\n",
              "    .dataframe tbody tr th {\n",
              "        vertical-align: top;\n",
              "    }\n",
              "\n",
              "    .dataframe thead th {\n",
              "        text-align: right;\n",
              "    }\n",
              "</style>\n",
              "<table border=\"1\" class=\"dataframe\">\n",
              "  <thead>\n",
              "    <tr style=\"text-align: right;\">\n",
              "      <th></th>\n",
              "      <th>ID</th>\n",
              "      <th>Clump Thickness</th>\n",
              "      <th>Uniformity of Cell Size</th>\n",
              "      <th>Uniformity of Cell Shape</th>\n",
              "      <th>Marginal Adhesion</th>\n",
              "      <th>Single Epithelial Cell Size</th>\n",
              "      <th>Bare Nuclei</th>\n",
              "      <th>Bland Chromatin</th>\n",
              "      <th>Normal Nucleoli</th>\n",
              "      <th>Mitoses</th>\n",
              "      <th>Class</th>\n",
              "    </tr>\n",
              "  </thead>\n",
              "  <tbody>\n",
              "    <tr>\n",
              "      <th>0</th>\n",
              "      <td>1000025</td>\n",
              "      <td>5</td>\n",
              "      <td>1</td>\n",
              "      <td>1</td>\n",
              "      <td>1</td>\n",
              "      <td>2</td>\n",
              "      <td>1</td>\n",
              "      <td>3</td>\n",
              "      <td>1</td>\n",
              "      <td>1</td>\n",
              "      <td>0</td>\n",
              "    </tr>\n",
              "    <tr>\n",
              "      <th>1</th>\n",
              "      <td>1002945</td>\n",
              "      <td>5</td>\n",
              "      <td>4</td>\n",
              "      <td>4</td>\n",
              "      <td>5</td>\n",
              "      <td>7</td>\n",
              "      <td>10</td>\n",
              "      <td>3</td>\n",
              "      <td>2</td>\n",
              "      <td>1</td>\n",
              "      <td>0</td>\n",
              "    </tr>\n",
              "    <tr>\n",
              "      <th>2</th>\n",
              "      <td>1015425</td>\n",
              "      <td>3</td>\n",
              "      <td>1</td>\n",
              "      <td>1</td>\n",
              "      <td>1</td>\n",
              "      <td>2</td>\n",
              "      <td>2</td>\n",
              "      <td>3</td>\n",
              "      <td>1</td>\n",
              "      <td>1</td>\n",
              "      <td>0</td>\n",
              "    </tr>\n",
              "    <tr>\n",
              "      <th>3</th>\n",
              "      <td>1016277</td>\n",
              "      <td>6</td>\n",
              "      <td>8</td>\n",
              "      <td>8</td>\n",
              "      <td>1</td>\n",
              "      <td>3</td>\n",
              "      <td>4</td>\n",
              "      <td>3</td>\n",
              "      <td>7</td>\n",
              "      <td>1</td>\n",
              "      <td>0</td>\n",
              "    </tr>\n",
              "    <tr>\n",
              "      <th>4</th>\n",
              "      <td>1017023</td>\n",
              "      <td>4</td>\n",
              "      <td>1</td>\n",
              "      <td>1</td>\n",
              "      <td>3</td>\n",
              "      <td>2</td>\n",
              "      <td>1</td>\n",
              "      <td>3</td>\n",
              "      <td>1</td>\n",
              "      <td>1</td>\n",
              "      <td>0</td>\n",
              "    </tr>\n",
              "  </tbody>\n",
              "</table>\n",
              "</div>"
            ],
            "text/plain": [
              "        ID  Clump Thickness  ...  Mitoses  Class\n",
              "0  1000025                5  ...        1      0\n",
              "1  1002945                5  ...        1      0\n",
              "2  1015425                3  ...        1      0\n",
              "3  1016277                6  ...        1      0\n",
              "4  1017023                4  ...        1      0\n",
              "\n",
              "[5 rows x 11 columns]"
            ]
          },
          "metadata": {},
          "execution_count": 1
        }
      ]
    },
    {
      "cell_type": "code",
      "metadata": {
        "id": "PVh1w9sq8Kh7"
      },
      "source": [
        "X = df.loc[:, \"Clump Thickness\":\"Mitoses\"]\n",
        "y = df[\"Class\"]\n",
        "y = 2 * y - 1  # convert 0/1 values to -1/+1"
      ],
      "execution_count": 2,
      "outputs": []
    },
    {
      "cell_type": "markdown",
      "metadata": {
        "id": "nd_8kTJR-tFg"
      },
      "source": [
        "## Fit Model in Scikit-Learn"
      ]
    },
    {
      "cell_type": "code",
      "metadata": {
        "id": "QKaN--f69NC6",
        "outputId": "b82eee78-cbed-4171-d3dd-dd0f288672af",
        "colab": {
          "base_uri": "https://localhost:8080/"
        }
      },
      "source": [
        "from sklearn.linear_model import LinearRegression\n",
        "\n",
        "model = LinearRegression()\n",
        "model.fit(X, y)\n",
        "model.intercept_, model.coef_"
      ],
      "execution_count": 3,
      "outputs": [
        {
          "output_type": "execute_result",
          "data": {
            "text/plain": [
              "(-1.4953222540589342,\n",
              " array([0.06342618, 0.04369002, 0.03127927, 0.01648654, 0.0201502 ,\n",
              "        0.09077256, 0.03835124, 0.03705867, 0.00195777]))"
            ]
          },
          "metadata": {},
          "execution_count": 3
        }
      ]
    },
    {
      "cell_type": "markdown",
      "metadata": {
        "id": "FGq6NF5eN-ut"
      },
      "source": [
        "## Implement Closed-Form Solution"
      ]
    },
    {
      "cell_type": "code",
      "metadata": {
        "id": "GZ4Ozo8FOKIu"
      },
      "source": [
        "# TODO: implement closed form solution"
      ],
      "execution_count": null,
      "outputs": []
    },
    {
      "cell_type": "markdown",
      "metadata": {
        "id": "9u6KX9xP99MI"
      },
      "source": [
        "## Implement Gradient Descent"
      ]
    },
    {
      "cell_type": "code",
      "metadata": {
        "id": "g7NgP8Oq97uP",
        "outputId": "c7adcc0c-4740-440c-fd0d-37a07a89c5f0",
        "colab": {
          "base_uri": "https://localhost:8080/"
        }
      },
      "source": [
        "n, p = X.shape\n",
        "\n",
        "# initialize alpha and betas\n",
        "alpha = 0\n",
        "betas = np.zeros(p)\n",
        "\n",
        "y_mean = y.mean()\n",
        "X_mean = X.mean()\n",
        "\n",
        "# gradient descent\n",
        "learning_rate = 0.007\n",
        "for _ in range(10000):\n",
        "  # TODO: implement gradient descent here\n",
        "  d_alpha = -2 * (y_mean - alpha - (X_mean * betas).sum())\n",
        "  d_beta = -2 / n * X.T @ (y - alpha - X @ betas)\n",
        "  alpha -= learning_rate * d_alpha\n",
        "  betas -= learning_rate * d_beta\n",
        "\n",
        "\n",
        "alpha, betas"
      ],
      "execution_count": 16,
      "outputs": [
        {
          "output_type": "execute_result",
          "data": {
            "text/plain": [
              "(-1.4953222540530144, Clump Thickness                0.063426\n",
              " Uniformity of Cell Size        0.043690\n",
              " Uniformity of Cell Shape       0.031279\n",
              " Marginal Adhesion              0.016487\n",
              " Single Epithelial Cell Size    0.020150\n",
              " Bare Nuclei                    0.090773\n",
              " Bland Chromatin                0.038351\n",
              " Normal Nucleoli                0.037059\n",
              " Mitoses                        0.001958\n",
              " dtype: float64)"
            ]
          },
          "metadata": {},
          "execution_count": 16
        }
      ]
    },
    {
      "cell_type": "code",
      "metadata": {
        "id": "2BR8XB5JYJQy",
        "outputId": "cc8dbf4f-a0e8-4344-f180-449d4dca8d61",
        "colab": {
          "base_uri": "https://localhost:8080/"
        }
      },
      "source": [
        "# check the gradients at the solution\n",
        "d_alpha, d_beta"
      ],
      "execution_count": 17,
      "outputs": [
        {
          "output_type": "execute_result",
          "data": {
            "text/plain": [
              "(2.220890138460163e-12, Clump Thickness               -2.130240e-13\n",
              " Uniformity of Cell Size        2.532002e-13\n",
              " Uniformity of Cell Shape       1.609129e-14\n",
              " Marginal Adhesion             -4.114764e-15\n",
              " Single Epithelial Cell Size   -2.732849e-13\n",
              " Bare Nuclei                    7.015222e-14\n",
              " Bland Chromatin               -2.460601e-13\n",
              " Normal Nucleoli                6.650583e-14\n",
              " Mitoses                       -7.191990e-14\n",
              " dtype: float64)"
            ]
          },
          "metadata": {},
          "execution_count": 17
        }
      ]
    },
    {
      "cell_type": "markdown",
      "metadata": {
        "id": "64CiuDXVOCsF"
      },
      "source": [
        "## Implement Stochastic Gradient Descent"
      ]
    },
    {
      "cell_type": "code",
      "metadata": {
        "id": "hw5Ow82dOCjr",
        "outputId": "da292a94-2b56-45a4-b5e4-0561b9c8209a",
        "colab": {
          "base_uri": "https://localhost:8080/"
        }
      },
      "source": [
        "n, p = X.shape\n",
        "\n",
        "# initialize alpha and betas\n",
        "alpha = 0\n",
        "betas = np.zeros(p)\n",
        "\n",
        "# gradient descent\n",
        "learning_rate = 0.001\n",
        "for epoch in range(100):\n",
        "  for i in range(n):\n",
        "    # TODO: implement stochastic gradient descent\n",
        "    xi = X.loc[i]  # observation i\n",
        "    yi = y[i]\n",
        "    d_alpha = -2 * (yi - alpha - (xi * betas).sum())\n",
        "    d_beta = -2 * xi * (yi - alpha - (xi * betas).sum())\n",
        "    alpha -= learning_rate * d_alpha\n",
        "    betas -= learning_rate * d_beta\n",
        "\n",
        "alpha, betas"
      ],
      "execution_count": 24,
      "outputs": [
        {
          "output_type": "execute_result",
          "data": {
            "text/plain": [
              "(-1.4224109872577775, Clump Thickness                0.040663\n",
              " Uniformity of Cell Size        0.105440\n",
              " Uniformity of Cell Shape       0.033453\n",
              " Marginal Adhesion              0.038207\n",
              " Single Epithelial Cell Size    0.003144\n",
              " Bare Nuclei                    0.078522\n",
              " Bland Chromatin                0.036761\n",
              " Normal Nucleoli                0.047140\n",
              " Mitoses                       -0.020007\n",
              " Name: 0, dtype: float64)"
            ]
          },
          "metadata": {},
          "execution_count": 24
        }
      ]
    },
    {
      "cell_type": "code",
      "metadata": {
        "id": "YiCgQ7V7eEGS"
      },
      "source": [
        ""
      ],
      "execution_count": null,
      "outputs": []
    }
  ]
}