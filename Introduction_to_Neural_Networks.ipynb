{
  "nbformat": 4,
  "nbformat_minor": 0,
  "metadata": {
    "colab": {
      "name": "Introduction to Neural Networks",
      "provenance": [],
      "collapsed_sections": [],
      "authorship_tag": "ABX9TyPp2taS9X9nfK76Xmhy/dqu",
      "include_colab_link": true
    },
    "kernelspec": {
      "name": "python3",
      "display_name": "Python 3"
    },
    "language_info": {
      "name": "python"
    }
  },
  "cells": [
    {
      "cell_type": "markdown",
      "metadata": {
        "id": "view-in-github",
        "colab_type": "text"
      },
      "source": [
        "<a href=\"https://colab.research.google.com/github/dlsun/Data402-F21/blob/main/Introduction_to_Neural_Networks.ipynb\" target=\"_parent\"><img src=\"https://colab.research.google.com/assets/colab-badge.svg\" alt=\"Open In Colab\"/></a>"
      ]
    },
    {
      "cell_type": "code",
      "metadata": {
        "id": "N95hnzxp-yDJ"
      },
      "source": [
        "import numpy as np\n",
        "import pandas as pd"
      ],
      "execution_count": null,
      "outputs": []
    },
    {
      "cell_type": "markdown",
      "metadata": {
        "id": "hevgJWgk_7Gs"
      },
      "source": [
        "# Neural Networks for the XOR problem"
      ]
    },
    {
      "cell_type": "markdown",
      "metadata": {
        "id": "CL-aVxrUPpJ9"
      },
      "source": [
        "Generate $n$ observations for the XOR problem\n",
        "\n",
        "- ${\\bf x} = (0, 0) \\to y = 0$\n",
        "- ${\\bf x} = (1, 0) \\to y = 1$\n",
        "- ${\\bf x} = (0, 1) \\to y = 1$\n",
        "- ${\\bf x} = (1, 1) \\to y = 0$"
      ]
    },
    {
      "cell_type": "code",
      "metadata": {
        "id": "DEShUkzB-98e"
      },
      "source": [
        "possible_features = [[0, 0],\n",
        "                     [0, 1],\n",
        "                     [1, 0],\n",
        "                     [1, 1]]\n",
        "\n",
        "n = 1000\n",
        "X = np.array(\n",
        "    [possible_features[i] for i in np.random.randint(\n",
        "        len(possible_features), size=n)]\n",
        ")\n",
        "y = np.bitwise_xor(X[:, 0], X[:, 1])\n",
        "y"
      ],
      "execution_count": null,
      "outputs": []
    },
    {
      "cell_type": "markdown",
      "metadata": {
        "id": "PQQWSSTJPmU0"
      },
      "source": [
        "Use scikit-learn to fit the neural network (multi-layer perceptron)"
      ]
    },
    {
      "cell_type": "code",
      "metadata": {
        "id": "PkNIG4rx-_6g"
      },
      "source": [
        "from sklearn.neural_network import MLPRegressor\n",
        "\n",
        "model = MLPRegressor(hidden_layer_sizes=(4), activation='relu')\n",
        "model.fit(X, y)"
      ],
      "execution_count": null,
      "outputs": []
    },
    {
      "cell_type": "markdown",
      "metadata": {
        "id": "ltQgb-QBPihI"
      },
      "source": [
        "Graph the predictions."
      ]
    },
    {
      "cell_type": "code",
      "metadata": {
        "id": "Bb86gkxK_TZn"
      },
      "source": [
        "import matplotlib.pyplot as plt\n",
        "\n",
        "# create grid of (X1, X2) values in the range [-1, 2]\n",
        "x1, x2 = np.meshgrid(np.linspace(-0.5, 1.5, 20), np.linspace(-0.5, 1.5, 20))\n",
        "X_test = np.vstack([x1.reshape(-1), x2.reshape(-1)]).T\n",
        "\n",
        "# calculate model predictions on grid\n",
        "y_test = model.predict(X_test)\n",
        "\n",
        "# make a scatterplot, coloring each point by the prediction\n",
        "plt.scatter(x1, x2, c=y_test, alpha=0.5, cmap=\"hot\")"
      ],
      "execution_count": null,
      "outputs": []
    }
  ]
}