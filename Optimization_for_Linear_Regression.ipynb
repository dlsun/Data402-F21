{
  "nbformat": 4,
  "nbformat_minor": 0,
  "metadata": {
    "colab": {
      "name": "Optimization for Linear Regression",
      "provenance": [],
      "collapsed_sections": [],
      "authorship_tag": "ABX9TyOYgmsqefqcrPnWabpRlSNR",
      "include_colab_link": true
    },
    "kernelspec": {
      "name": "python3",
      "display_name": "Python 3"
    },
    "language_info": {
      "name": "python"
    }
  },
  "cells": [
    {
      "cell_type": "markdown",
      "metadata": {
        "id": "view-in-github",
        "colab_type": "text"
      },
      "source": [
        "<a href=\"https://colab.research.google.com/github/dlsun/Data402-F21/blob/main/Optimization_for_Linear_Regression.ipynb\" target=\"_parent\"><img src=\"https://colab.research.google.com/assets/colab-badge.svg\" alt=\"Open In Colab\"/></a>"
      ]
    },
    {
      "cell_type": "markdown",
      "metadata": {
        "id": "utvyo_CTbBYq"
      },
      "source": [
        "Read in housing prices data set."
      ]
    },
    {
      "cell_type": "code",
      "metadata": {
        "id": "E5JGCJULadrl",
        "outputId": "bec6dc5e-d765-4d4d-d78f-9980d71eca60",
        "colab": {
          "base_uri": "https://localhost:8080/",
          "height": 443
        }
      },
      "source": [
        "import pandas as pd\n",
        "df = pd.read_csv(\"https://raw.githubusercontent.com/dlsun/Data402-F21/main/data/housing-prices.txt\",\n",
        "                 sep=\"\\t\")\n",
        "df"
      ],
      "execution_count": 1,
      "outputs": [
        {
          "output_type": "execute_result",
          "data": {
            "text/html": [
              "<div>\n",
              "<style scoped>\n",
              "    .dataframe tbody tr th:only-of-type {\n",
              "        vertical-align: middle;\n",
              "    }\n",
              "\n",
              "    .dataframe tbody tr th {\n",
              "        vertical-align: top;\n",
              "    }\n",
              "\n",
              "    .dataframe thead th {\n",
              "        text-align: right;\n",
              "    }\n",
              "</style>\n",
              "<table border=\"1\" class=\"dataframe\">\n",
              "  <thead>\n",
              "    <tr style=\"text-align: right;\">\n",
              "      <th></th>\n",
              "      <th>Price</th>\n",
              "      <th>Living.Area</th>\n",
              "      <th>Bathrooms</th>\n",
              "      <th>Bedrooms</th>\n",
              "      <th>Fireplaces</th>\n",
              "      <th>Lot.Size</th>\n",
              "      <th>Age</th>\n",
              "      <th>Fireplace</th>\n",
              "    </tr>\n",
              "  </thead>\n",
              "  <tbody>\n",
              "    <tr>\n",
              "      <th>0</th>\n",
              "      <td>142212</td>\n",
              "      <td>1982</td>\n",
              "      <td>1.0</td>\n",
              "      <td>3</td>\n",
              "      <td>0</td>\n",
              "      <td>2.00</td>\n",
              "      <td>133</td>\n",
              "      <td>False</td>\n",
              "    </tr>\n",
              "    <tr>\n",
              "      <th>1</th>\n",
              "      <td>134865</td>\n",
              "      <td>1676</td>\n",
              "      <td>1.5</td>\n",
              "      <td>3</td>\n",
              "      <td>1</td>\n",
              "      <td>0.38</td>\n",
              "      <td>14</td>\n",
              "      <td>True</td>\n",
              "    </tr>\n",
              "    <tr>\n",
              "      <th>2</th>\n",
              "      <td>118007</td>\n",
              "      <td>1694</td>\n",
              "      <td>2.0</td>\n",
              "      <td>3</td>\n",
              "      <td>1</td>\n",
              "      <td>0.96</td>\n",
              "      <td>15</td>\n",
              "      <td>True</td>\n",
              "    </tr>\n",
              "    <tr>\n",
              "      <th>3</th>\n",
              "      <td>138297</td>\n",
              "      <td>1800</td>\n",
              "      <td>1.0</td>\n",
              "      <td>2</td>\n",
              "      <td>2</td>\n",
              "      <td>0.48</td>\n",
              "      <td>49</td>\n",
              "      <td>True</td>\n",
              "    </tr>\n",
              "    <tr>\n",
              "      <th>4</th>\n",
              "      <td>129470</td>\n",
              "      <td>2088</td>\n",
              "      <td>1.0</td>\n",
              "      <td>3</td>\n",
              "      <td>1</td>\n",
              "      <td>1.84</td>\n",
              "      <td>29</td>\n",
              "      <td>True</td>\n",
              "    </tr>\n",
              "    <tr>\n",
              "      <th>...</th>\n",
              "      <td>...</td>\n",
              "      <td>...</td>\n",
              "      <td>...</td>\n",
              "      <td>...</td>\n",
              "      <td>...</td>\n",
              "      <td>...</td>\n",
              "      <td>...</td>\n",
              "      <td>...</td>\n",
              "    </tr>\n",
              "    <tr>\n",
              "      <th>1052</th>\n",
              "      <td>107695</td>\n",
              "      <td>1802</td>\n",
              "      <td>2.0</td>\n",
              "      <td>4</td>\n",
              "      <td>1</td>\n",
              "      <td>0.97</td>\n",
              "      <td>56</td>\n",
              "      <td>True</td>\n",
              "    </tr>\n",
              "    <tr>\n",
              "      <th>1053</th>\n",
              "      <td>236737</td>\n",
              "      <td>3239</td>\n",
              "      <td>3.5</td>\n",
              "      <td>4</td>\n",
              "      <td>2</td>\n",
              "      <td>2.50</td>\n",
              "      <td>1</td>\n",
              "      <td>True</td>\n",
              "    </tr>\n",
              "    <tr>\n",
              "      <th>1054</th>\n",
              "      <td>154829</td>\n",
              "      <td>1440</td>\n",
              "      <td>2.0</td>\n",
              "      <td>2</td>\n",
              "      <td>1</td>\n",
              "      <td>0.61</td>\n",
              "      <td>66</td>\n",
              "      <td>True</td>\n",
              "    </tr>\n",
              "    <tr>\n",
              "      <th>1055</th>\n",
              "      <td>179492</td>\n",
              "      <td>2030</td>\n",
              "      <td>2.5</td>\n",
              "      <td>3</td>\n",
              "      <td>1</td>\n",
              "      <td>1.00</td>\n",
              "      <td>3</td>\n",
              "      <td>True</td>\n",
              "    </tr>\n",
              "    <tr>\n",
              "      <th>1056</th>\n",
              "      <td>189108</td>\n",
              "      <td>2097</td>\n",
              "      <td>2.5</td>\n",
              "      <td>3</td>\n",
              "      <td>1</td>\n",
              "      <td>1.93</td>\n",
              "      <td>10</td>\n",
              "      <td>True</td>\n",
              "    </tr>\n",
              "  </tbody>\n",
              "</table>\n",
              "<p>1057 rows × 8 columns</p>\n",
              "</div>"
            ],
            "text/plain": [
              "       Price  Living.Area  Bathrooms  ...  Lot.Size  Age  Fireplace\n",
              "0     142212         1982        1.0  ...      2.00  133      False\n",
              "1     134865         1676        1.5  ...      0.38   14       True\n",
              "2     118007         1694        2.0  ...      0.96   15       True\n",
              "3     138297         1800        1.0  ...      0.48   49       True\n",
              "4     129470         2088        1.0  ...      1.84   29       True\n",
              "...      ...          ...        ...  ...       ...  ...        ...\n",
              "1052  107695         1802        2.0  ...      0.97   56       True\n",
              "1053  236737         3239        3.5  ...      2.50    1       True\n",
              "1054  154829         1440        2.0  ...      0.61   66       True\n",
              "1055  179492         2030        2.5  ...      1.00    3       True\n",
              "1056  189108         2097        2.5  ...      1.93   10       True\n",
              "\n",
              "[1057 rows x 8 columns]"
            ]
          },
          "metadata": {},
          "execution_count": 1
        }
      ]
    },
    {
      "cell_type": "markdown",
      "metadata": {
        "id": "UzStltkGcZ_K"
      },
      "source": [
        "Let's fit a linear regression model, using the number of bedrooms and number of bathrooms as a feature. We can use linear algebra to get a closed-form solution for $\\alpha$ and $\\beta$.\n",
        "\n",
        "Recall from class that if we know $\\beta$, then the optimal intercept $\\alpha$ is $\\bar y - \\bar{\\bf x} \\beta$. Therefore, we can write the objective in terms of $\\beta$ as:\n",
        "\n",
        "\\begin{align}\n",
        "J(\\beta) &= \\frac{1}{n} \\sum_{i=1}^n ((y_i - \\bar y) - ({\\bf x}_i - \\bar {\\bf x})\\beta)^2 \\\\\n",
        "&= \\frac{1}{n} \\sum_{i=1}^n (\\tilde y_i - \\tilde {\\bf x}_i\\beta)^2\n",
        "\\end{align}\n",
        "\n",
        "Now, we take the derivative:\n",
        "\n",
        "\\begin{align}\n",
        "\\frac{\\partial J}{\\partial \\beta} &= \\frac{1}{n} \\sum_{i=1}^n -2 \\tilde {\\bf x}_i^T (\\tilde y_i - \\tilde {\\bf x}_i\\beta).\n",
        "\\end{align}\n",
        "\n",
        "Setting this equal to 0 and solving, we obtain:\n",
        "\n",
        "$$ \\sum_{i=1}^n \\tilde {\\bf x}_i^T \\tilde {\\bf x}_i\\beta = \\sum_{i=1}^n \\tilde {\\bf x}_i^T \\tilde y_i.$$\n",
        "\n",
        "We can rewrite these expressions in terms of matrices as:\n",
        "\n",
        "$$ \\tilde X^T \\tilde X \\beta = \\tilde X^T \\tilde {\\bf y}. $$\n",
        "\n",
        "At this point, we can solve a system of linear equations to obtain $\\beta$. But we can also obtain an expression for $\\beta$ using linear algebra (matrix inverses):\n",
        "\n",
        "$$ \\beta = (\\tilde X^T \\tilde X)^{-1} \\tilde X^T \\tilde {\\bf y}. $$"
      ]
    },
    {
      "cell_type": "code",
      "metadata": {
        "id": "JaoMJmySapu5"
      },
      "source": [
        "import numpy as np\n",
        "\n",
        "n = len(df)\n",
        "X = df[[\"Bedrooms\", \"Bathrooms\"]]\n",
        "y = df[\"Price\"]\n",
        "\n",
        "Xc = X - X.mean()\n",
        "yc = y - y.mean()\n",
        "\n",
        "beta = np.linalg.solve(Xc.T @ Xc, Xc.T @ yc)\n",
        "alpha = y.mean() - X.mean() @ beta\n",
        "\n",
        "alpha, beta"
      ],
      "execution_count": null,
      "outputs": []
    },
    {
      "cell_type": "markdown",
      "metadata": {
        "id": "f220nuJtcVf7"
      },
      "source": [
        "Alternatively, we can use gradient descent to estimate $\\beta$.\n",
        "\n",
        "The gradient (which we calculated above) is:\n",
        "\n",
        "$$ \\frac{\\partial J}{\\partial\\beta} = \\frac{1}{n} (-2) X^T({\\bf y} - X\\beta). $$\n",
        "\n"
      ]
    },
    {
      "cell_type": "code",
      "metadata": {
        "id": "gCKxEGC5aw1M"
      },
      "source": [
        "learning_rate = 0.1 # fiddle around with this number until convergence \n",
        "\n",
        "# start with initial guess of beta\n",
        "beta = np.array([0, 0])\n",
        "for _ in range(1000):\n",
        "  grad = 1/n * -2 * Xc.T @ (yc - Xc @ beta)\n",
        "  beta = beta - learning_rate * grad\n",
        "\n",
        "beta"
      ],
      "execution_count": null,
      "outputs": []
    },
    {
      "cell_type": "markdown",
      "metadata": {
        "id": "AY7gFGtZtcoe"
      },
      "source": [
        "## Practice Exercises\n",
        "\n",
        "Continue with the data example above.\n",
        "\n",
        "1. In the example above, we did gradient descent on $\\beta$ only, assuming that we would calculate $\\alpha$ separately after we have estimated $\\beta$. Implement gradient descent on all parameters $(\\alpha, \\beta)$ simultaneously.\n",
        "\n",
        "2. Use linear algebra to come up with a closed-form solution to ridge regression, which minimizes:\n",
        "\n",
        "$$ \\underset{\\alpha, {\\bf \\beta}}{\\text{minimize}}\\ \\frac{1}{n}\\sum_{i=1}^n (y_i - \\alpha - {\\bf x}_i \\beta)^2 + \\lambda \\sum_{j=1}^p \\beta_j^2. $$\n",
        "\n",
        "3. Use gradient descent to estimate $\\beta$.\n",
        "\n",
        "4. Use gradient descent to estimate $\\alpha$ and $\\beta$ together."
      ]
    }
  ]
}