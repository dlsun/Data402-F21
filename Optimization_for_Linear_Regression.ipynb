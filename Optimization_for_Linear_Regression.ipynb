{
  "nbformat": 4,
  "nbformat_minor": 0,
  "metadata": {
    "colab": {
      "name": "Optimization for Linear Regression",
      "provenance": [],
      "collapsed_sections": [],
      "authorship_tag": "ABX9TyO6cslXZetd3b7mL2EIGpVr",
      "include_colab_link": true
    },
    "kernelspec": {
      "name": "python3",
      "display_name": "Python 3"
    },
    "language_info": {
      "name": "python"
    }
  },
  "cells": [
    {
      "cell_type": "markdown",
      "metadata": {
        "id": "view-in-github",
        "colab_type": "text"
      },
      "source": [
        "<a href=\"https://colab.research.google.com/github/dlsun/Data402-F21/blob/main/Optimization_for_Linear_Regression.ipynb\" target=\"_parent\"><img src=\"https://colab.research.google.com/assets/colab-badge.svg\" alt=\"Open In Colab\"/></a>"
      ]
    },
    {
      "cell_type": "markdown",
      "metadata": {
        "id": "utvyo_CTbBYq"
      },
      "source": [
        "Read in housing prices data set."
      ]
    },
    {
      "cell_type": "code",
      "metadata": {
        "id": "E5JGCJULadrl"
      },
      "source": [
        "import pandas as pd\n",
        "df = pd.read_csv(\"https://raw.githubusercontent.com/dlsun/Data402-F21/main/data/housing-prices.txt\",\n",
        "                 sep=\"\\t\")\n",
        "df"
      ],
      "execution_count": null,
      "outputs": []
    },
    {
      "cell_type": "markdown",
      "metadata": {
        "id": "UzStltkGcZ_K"
      },
      "source": [
        "Let's fit a linear regression model, using the number of bedrooms and number of bathrooms as a feature. We can use linear algebra to get a closed-form solution for $\\alpha$ and $\\beta$.\n",
        "\n",
        "Recall from class that if we know $\\beta$, then the optimal intercept $\\alpha$ is $\\bar y - \\bar{\\bf x} \\beta$. Therefore, we can write the objective in terms of $\\beta$ as:\n",
        "\n",
        "\\begin{align}\n",
        "J(\\beta) &= \\frac{1}{n} \\sum_{i=1}^n ((y_i - \\bar y) - ({\\bf x}_i - \\bar {\\bf x})\\beta)^2 \\\\\n",
        "&= \\frac{1}{n} \\sum_{i=1}^n (\\tilde y_i - \\tilde {\\bf x}_i\\beta)^2\n",
        "\\end{align}\n",
        "\n",
        "Now, we take the derivative:\n",
        "\n",
        "\\begin{align}\n",
        "\\frac{\\partial J}{\\partial \\beta} &= \\frac{1}{n} \\sum_{i=1}^n -2 \\tilde {\\bf x}_i^T (\\tilde y_i - \\tilde {\\bf x}_i\\beta).\n",
        "\\end{align}\n",
        "\n",
        "Setting this equal to 0 and solving, we obtain:\n",
        "\n",
        "$$ \\sum_{i=1}^n \\tilde {\\bf x}_i^T \\tilde {\\bf x}_i\\beta = \\sum_{i=1}^n \\tilde {\\bf x}_i^T \\tilde y_i.$$\n",
        "\n",
        "We can rewrite these expressions in terms of matrices as:\n",
        "\n",
        "$$ \\tilde X^T \\tilde X \\beta = \\tilde X^T \\tilde {\\bf y}. $$\n",
        "\n",
        "At this point, we can solve a system of linear equations to obtain $\\beta$. But we can also obtain an expression for $\\beta$ using linear algebra (matrix inverses):\n",
        "\n",
        "$$ \\beta = (\\tilde X^T \\tilde X)^{-1} \\tilde X^T \\tilde {\\bf y}. $$"
      ]
    },
    {
      "cell_type": "code",
      "metadata": {
        "id": "JaoMJmySapu5"
      },
      "source": [
        "import numpy as np\n",
        "\n",
        "X = df[[\"Bedrooms\", \"Bathrooms\"]]\n",
        "y = df[\"Price\"]\n",
        "\n",
        "Xc = X - X.mean()\n",
        "yc = y - y.mean()\n",
        "\n",
        "beta = np.linalg.solve(Xc.T @ Xc, Xc.T @ yc)\n",
        "alpha = y.mean() - X.mean() @ beta\n",
        "\n",
        "alpha, beta"
      ],
      "execution_count": null,
      "outputs": []
    },
    {
      "cell_type": "markdown",
      "metadata": {
        "id": "f220nuJtcVf7"
      },
      "source": [
        "Alternatively, we can use gradient descent to estimate $\\beta$.\n",
        "\n"
      ]
    },
    {
      "cell_type": "code",
      "metadata": {
        "id": "gCKxEGC5aw1M"
      },
      "source": [
        "learning_rate = 0.1 # fiddle around with this number until convergence \n",
        "\n",
        "# start with initial guess of beta\n",
        "beta = np.array([0, 0])\n",
        "for _ in range(1000):\n",
        "  grad = -2 * Xc.T @ (yc - Xc @ beta)\n",
        "  beta = beta - learning_rate * grad\n",
        "\n",
        "beta"
      ],
      "execution_count": null,
      "outputs": []
    },
    {
      "cell_type": "markdown",
      "metadata": {
        "id": "AY7gFGtZtcoe"
      },
      "source": [
        "## Practice Exercises\n",
        "\n",
        "Continue with the data example above.\n",
        "\n",
        "1. In the example above, we did gradient descent on $\\beta$ only, assuming that we would calculate $\\alpha$ separately after we have estimated $\\beta$. Implement gradient descent on all parameters $(\\alpha, \\beta)$ simultaneously.\n",
        "\n",
        "2. Use linear algebra to come up with a closed-form solution to ridge regression, which minimizes:\n",
        "\n",
        "$$ \\underset{\\alpha, {\\bf \\beta}}{\\text{minimize}} \\sum_{i=1}^n (y_i - \\alpha - {\\bf x}_i \\beta)^2 + \\lambda \\sum_{j=1}^p \\beta_j^2. $$\n",
        "\n",
        "3. Use gradient descent to estimate $\\beta$.\n",
        "\n",
        "4. Use gradient descent to estimate $\\alpha$ and $\\beta$ together."
      ]
    }
  ]
}