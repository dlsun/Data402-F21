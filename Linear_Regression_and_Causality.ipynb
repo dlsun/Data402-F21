{
  "nbformat": 4,
  "nbformat_minor": 0,
  "metadata": {
    "colab": {
      "name": "Linear Regression and Causality",
      "provenance": [],
      "collapsed_sections": [],
      "authorship_tag": "ABX9TyMJJlyvgcrk7sTsMZXgjV0K",
      "include_colab_link": true
    },
    "kernelspec": {
      "name": "python3",
      "display_name": "Python 3"
    },
    "language_info": {
      "name": "python"
    }
  },
  "cells": [
    {
      "cell_type": "markdown",
      "metadata": {
        "id": "view-in-github",
        "colab_type": "text"
      },
      "source": [
        "<a href=\"https://colab.research.google.com/github/dlsun/Data402-F21/blob/main/Linear_Regression_and_Causality.ipynb\" target=\"_parent\"><img src=\"https://colab.research.google.com/assets/colab-badge.svg\" alt=\"Open In Colab\"/></a>"
      ]
    },
    {
      "cell_type": "markdown",
      "metadata": {
        "id": "utvyo_CTbBYq"
      },
      "source": [
        "Read in housing prices data set."
      ]
    },
    {
      "cell_type": "code",
      "metadata": {
        "id": "E5JGCJULadrl"
      },
      "source": [
        "import pandas as pd\n",
        "df = pd.read_csv(\"https://raw.githubusercontent.com/dlsun/Data402-F21/main/data/housing-prices.txt\",\n",
        "                 sep=\"\\t\")\n",
        "df"
      ],
      "execution_count": null,
      "outputs": []
    },
    {
      "cell_type": "markdown",
      "metadata": {
        "id": "UzStltkGcZ_K"
      },
      "source": [
        "Let's fit a linear regression model, using the number of bedrooms and number of bathrooms as a feature. How would you interpret the coefficients of this model?"
      ]
    },
    {
      "cell_type": "code",
      "metadata": {
        "id": "JaoMJmySapu5"
      },
      "source": [
        "from sklearn.linear_model import LinearRegression\n",
        "\n",
        "model = LinearRegression()\n",
        "model.fit(df[[\"Bedrooms\", \"Bathrooms\"]], df[\"Price\"])\n",
        "model.intercept_, model.coef_"
      ],
      "execution_count": null,
      "outputs": []
    },
    {
      "cell_type": "markdown",
      "metadata": {
        "id": "f220nuJtcVf7"
      },
      "source": [
        "What happens when we \"adjust\" for the effect of living area?"
      ]
    },
    {
      "cell_type": "code",
      "metadata": {
        "id": "gCKxEGC5aw1M"
      },
      "source": [
        "model.fit(df[[\"Bedrooms\", \"Bathrooms\", \"Living.Area\"]], df[\"Price\"])\n",
        "model.intercept_, model.coef_"
      ],
      "execution_count": null,
      "outputs": []
    }
  ]
}