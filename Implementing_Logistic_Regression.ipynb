{
  "nbformat": 4,
  "nbformat_minor": 0,
  "metadata": {
    "colab": {
      "name": "Implementing Logistic Regression",
      "provenance": [],
      "collapsed_sections": [],
      "authorship_tag": "ABX9TyPIwg/a4b5Lh6ERgXr2DITp",
      "include_colab_link": true
    },
    "kernelspec": {
      "name": "python3",
      "display_name": "Python 3"
    },
    "language_info": {
      "name": "python"
    }
  },
  "cells": [
    {
      "cell_type": "markdown",
      "metadata": {
        "id": "view-in-github",
        "colab_type": "text"
      },
      "source": [
        "<a href=\"https://colab.research.google.com/github/dlsun/Data402-F21/blob/main/Implementing_Logistic_Regression.ipynb\" target=\"_parent\"><img src=\"https://colab.research.google.com/assets/colab-badge.svg\" alt=\"Open In Colab\"/></a>"
      ]
    },
    {
      "cell_type": "markdown",
      "metadata": {
        "id": "qfJyvS9W8L0a"
      },
      "source": [
        "# Implementing Logistic Regression"
      ]
    },
    {
      "cell_type": "code",
      "metadata": {
        "id": "LNkhfVSb4NBH"
      },
      "source": [
        "import numpy as np\n",
        "import pandas as pd\n",
        "\n",
        "df = pd.read_csv(\"https://raw.githubusercontent.com/dlsun/pods/master/data/breast-cancer.csv\")\n",
        "df.head()"
      ],
      "execution_count": null,
      "outputs": []
    },
    {
      "cell_type": "code",
      "metadata": {
        "id": "PVh1w9sq8Kh7"
      },
      "source": [
        "X = df.loc[:, \"Clump Thickness\":\"Mitoses\"]\n",
        "y = df[\"Class\"]"
      ],
      "execution_count": null,
      "outputs": []
    },
    {
      "cell_type": "markdown",
      "metadata": {
        "id": "nd_8kTJR-tFg"
      },
      "source": [
        "## Fit Model in Scikit-Learn"
      ]
    },
    {
      "cell_type": "code",
      "metadata": {
        "id": "oBXqOWCU-uja"
      },
      "source": [
        "from sklearn.linear_model import LogisticRegression\n",
        "\n",
        "model = LogisticRegression(penalty='none')\n",
        "model.fit(X, y)\n",
        "model.intercept_, model.coef_"
      ],
      "execution_count": null,
      "outputs": []
    },
    {
      "cell_type": "markdown",
      "metadata": {
        "id": "9u6KX9xP99MI"
      },
      "source": [
        "## Implement Gradient Descent\n",
        "\n",
        "In class, we showed that the logistic regression objective is \n",
        "$$ J(\\alpha, \\beta) = \\frac{1}{n} \\sum_{i=1}^n - y_i (\\alpha + {\\bf x}_i \\beta) + \\log(1 + e^{\\alpha + {\\bf x}_i \\beta}). $$\n",
        "\n",
        "We also started calculating one part of the gradient:\n",
        "$$ \\frac{\\partial J}{\\partial\\alpha} = -\\frac{1}{n} \\sum_{i=1}^n (y_i - \\frac{e^{\\alpha + {\\bf x}_i \\beta}}{1 + e^{\\alpha + {\\bf x}_i \\beta}}). $$\n",
        "\n",
        "You need to calculate the other part of the gradient:\n",
        "$$ \\frac{\\partial J}{\\partial\\beta}. $$\n",
        "Then, use both parts to implement gradient descent in the cell below. You can use the scikit-learn implementation above to check your answer.\n",
        "\n",
        "**Hints:**\n",
        "- Inside the `for` loop, I recommend that you create a variable that stores the values of \n",
        "$$ p_i = \\frac{e^{\\alpha + {\\bf x}_i\\beta}}{1 + e^{\\alpha + {\\bf x}_i\\beta}} $$\n",
        "or perhaps the residuals $(y_i - p_i)$, since these appear in both $\\frac{\\partial J}{\\partial\\alpha}$ and $\\frac{\\partial J}{\\partial\\beta}$."
      ]
    },
    {
      "cell_type": "code",
      "metadata": {
        "id": "g7NgP8Oq97uP"
      },
      "source": [
        "n, p = X.shape\n",
        "\n",
        "# initialize alpha and betas\n",
        "alpha = 0\n",
        "betas = np.zeros(p)\n",
        "\n",
        "# gradient descent\n",
        "learning_rate = 0.1\n",
        "for _ in range(1000):\n",
        "  # implement gradient descent here\n",
        "  continue\n",
        "\n",
        "alpha, betas"
      ],
      "execution_count": null,
      "outputs": []
    }
  ]
}