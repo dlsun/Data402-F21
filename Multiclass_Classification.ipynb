{
  "nbformat": 4,
  "nbformat_minor": 0,
  "metadata": {
    "colab": {
      "name": "Multiclass Classification",
      "provenance": [],
      "collapsed_sections": [],
      "authorship_tag": "ABX9TyNBeWScC9OY18LX8eSKf/0s",
      "include_colab_link": true
    },
    "kernelspec": {
      "name": "python3",
      "display_name": "Python 3"
    },
    "language_info": {
      "name": "python"
    }
  },
  "cells": [
    {
      "cell_type": "markdown",
      "metadata": {
        "id": "view-in-github",
        "colab_type": "text"
      },
      "source": [
        "<a href=\"https://colab.research.google.com/github/dlsun/Data402-F21/blob/main/Multiclass_Classification.ipynb\" target=\"_parent\"><img src=\"https://colab.research.google.com/assets/colab-badge.svg\" alt=\"Open In Colab\"/></a>"
      ]
    },
    {
      "cell_type": "code",
      "metadata": {
        "id": "owCRYQ6xehQc"
      },
      "source": [
        "import numpy as np\n",
        "\n",
        "import tensorflow as tf\n",
        "from tensorflow.keras import layers"
      ],
      "execution_count": null,
      "outputs": []
    },
    {
      "cell_type": "markdown",
      "metadata": {
        "id": "dwl8Y4rNLBp4"
      },
      "source": [
        "We have looked at the MNIST handwritten digits data set before. Previously, we classified whether a given digit was 5 or not (binary classification). Now that we know how to do multiclass classification, let's treat this properly as a multiclass classification function with 10 classes."
      ]
    },
    {
      "cell_type": "code",
      "metadata": {
        "id": "asONIudiK1be"
      },
      "source": [
        "mnist = tf.keras.datasets.mnist\n",
        "(x_train, y_train), (x_test, y_test) = mnist.load_data()"
      ],
      "execution_count": null,
      "outputs": []
    },
    {
      "cell_type": "markdown",
      "metadata": {
        "id": "ILFgYP3RrTII"
      },
      "source": [
        "Notice that the pixel values are 8-bit integers, but the input to neural networks needs to be floats. The code below normalizes the images so that the values are floats."
      ]
    },
    {
      "cell_type": "code",
      "metadata": {
        "id": "1QuvwEgOu7ka"
      },
      "source": [
        "x_train_float = x_train / 255\n",
        "x_test_float = x_test / 255"
      ],
      "execution_count": null,
      "outputs": []
    },
    {
      "cell_type": "markdown",
      "metadata": {
        "id": "Pfwek_nErxFR"
      },
      "source": [
        "We also need to convert the label into a vector of 0s and 1s."
      ]
    },
    {
      "cell_type": "code",
      "metadata": {
        "id": "S9NaBZfQrw8P"
      },
      "source": [
        "y_train_enc = tf.keras.utils.to_categorical(y_train)\n",
        "y_test_enc = tf.keras.utils.to_categorical(y_test)\n",
        "\n",
        "y_train_enc"
      ],
      "execution_count": null,
      "outputs": []
    },
    {
      "cell_type": "markdown",
      "metadata": {
        "id": "z0FZ9qwJj4qE"
      },
      "source": [
        "Now, we will fit a standard convolutional neural network (CNN) architecture called [LeNet](https://en.wikipedia.org/wiki/LeNet) to this data. This architecture was developed by Yann LeCun in 1989 for this specific data set.\n",
        "\n",
        "The very first layer of this network is a 2D convolution. We can use the Keras layer `Conv2D`. If you look at the [documentation](https://www.tensorflow.org/api_docs/python/tf/keras/layers/Conv2D), `Conv2D` expects a 4-D tensor as input.\n",
        "\n",
        "Right now, our input `x_train` and `x_test` only has 3 dimensions.\n",
        "\n",
        "- 1 dimension for the examples\n",
        "- 1 dimension for the height\n",
        "- 1 dimension for the width\n",
        "\n",
        "What is the 4th dimension? We need to create a dummy 4th dimension."
      ]
    },
    {
      "cell_type": "code",
      "metadata": {
        "id": "5yhQ8n2s0_Af"
      },
      "source": [
        "x_train_float = x_train_float[:, :, :, np.newaxis]\n",
        "x_test_float = x_test_float[:, :, :, np.newaxis]\n",
        "\n",
        "x_train_float.shape"
      ],
      "execution_count": null,
      "outputs": []
    },
    {
      "cell_type": "markdown",
      "metadata": {
        "id": "gIuArlbkQLUs"
      },
      "source": [
        "Now we are ready to define the model. A convolutional neural network usually begins with alternating convolutional and pooling layers.\n",
        "\n",
        "To do the convolution, we use [`Conv2D`](https://www.tensorflow.org/api_docs/python/tf/keras/layers/Conv2D) in Keras. LeNet uses average pooling, which is [`AvgPool2D`](https://www.tensorflow.org/api_docs/python/tf/keras/layers/AvgPool2D) in Keras."
      ]
    },
    {
      "cell_type": "code",
      "metadata": {
        "id": "Ef8jlNm9jhcv"
      },
      "source": [
        "model = tf.keras.models.Sequential([\n",
        "  layers.Conv2D(filters=6, kernel_size=(5, 5), strides=(1, 1), padding=\"same\",\n",
        "                activation=\"sigmoid\"),\n",
        "  layers.AvgPool2D(pool_size=(2, 2), strides=(2, 2)),\n",
        "  layers.Conv2D(filters=16, kernel_size=(5, 5), strides=(1, 1), padding=\"valid\",\n",
        "                activation=\"sigmoid\"),\n",
        "  layers.AvgPool2D(pool_size=(2, 2), strides=(2, 2)),\n",
        "  layers.Flatten(),\n",
        "  layers.Dense(120, activation=\"sigmoid\"),\n",
        "  layers.Dense(84, activation=\"sigmoid\"),\n",
        "  layers.Dense(10, activation=\"softmax\")\n",
        "])\n",
        "\n",
        "model.compile(\n",
        "    optimizer=tf.keras.optimizers.Adam(0.001),\n",
        "    loss=tf.keras.losses.CategoricalCrossentropy(from_logits=False),\n",
        "    metrics=[\"accuracy\"],\n",
        ")"
      ],
      "execution_count": null,
      "outputs": []
    },
    {
      "cell_type": "markdown",
      "metadata": {
        "id": "iz6R8whrzELH"
      },
      "source": [
        "Now we are ready to fit the model to data."
      ]
    },
    {
      "cell_type": "code",
      "metadata": {
        "id": "OBKEMjBpqq3Y"
      },
      "source": [
        "model.fit(x_train_float, y_train_enc,\n",
        "          epochs=3,\n",
        "          batch_size=30,\n",
        "          validation_data=(x_test_float, y_test_enc))"
      ],
      "execution_count": null,
      "outputs": []
    },
    {
      "cell_type": "markdown",
      "metadata": {
        "id": "KNIX5nay1uAi"
      },
      "source": [
        "You can print out a description of your model, which can help you debug your network."
      ]
    },
    {
      "cell_type": "code",
      "metadata": {
        "id": "02zu9K_dyicq"
      },
      "source": [
        "model.summary()"
      ],
      "execution_count": null,
      "outputs": []
    }
  ]
}