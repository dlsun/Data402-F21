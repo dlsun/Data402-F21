{
  "nbformat": 4,
  "nbformat_minor": 0,
  "metadata": {
    "colab": {
      "name": "Convolutional Neural Networks in Tensorflow/Keras",
      "provenance": [],
      "collapsed_sections": [],
      "authorship_tag": "ABX9TyP3N08LnUWMI5OmV6DGT23y",
      "include_colab_link": true
    },
    "kernelspec": {
      "name": "python3",
      "display_name": "Python 3"
    },
    "language_info": {
      "name": "python"
    }
  },
  "cells": [
    {
      "cell_type": "markdown",
      "metadata": {
        "id": "view-in-github",
        "colab_type": "text"
      },
      "source": [
        "<a href=\"https://colab.research.google.com/github/dlsun/Data402-F21/blob/main/Convolutional_Neural_Networks_in_Tensorflow_Keras.ipynb\" target=\"_parent\"><img src=\"https://colab.research.google.com/assets/colab-badge.svg\" alt=\"Open In Colab\"/></a>"
      ]
    },
    {
      "cell_type": "code",
      "metadata": {
        "id": "owCRYQ6xehQc"
      },
      "source": [
        "import numpy as np\n",
        "\n",
        "import tensorflow as tf\n",
        "from tensorflow.keras import layers"
      ],
      "execution_count": null,
      "outputs": []
    },
    {
      "cell_type": "markdown",
      "metadata": {
        "id": "dwl8Y4rNLBp4"
      },
      "source": [
        "In this lesson, we will use [one of the data sets](https://www.tensorflow.org/api_docs/python/tf/keras/datasets) that come with Keras. Tensorflow/Keras provides utilities for loading these data sets.\n",
        "\n",
        "The data set that we will use is called MNIST. It is a data set of handwritten digits collected by the U.S. Postal Service. It was one of the data sets that inspired convolutional neural networks in the late 80s."
      ]
    },
    {
      "cell_type": "code",
      "metadata": {
        "id": "asONIudiK1be"
      },
      "source": [
        "mnist = tf.keras.datasets.mnist\n",
        "(x_train, y_train), (x_test, y_test) = mnist.load_data()"
      ],
      "execution_count": null,
      "outputs": []
    },
    {
      "cell_type": "code",
      "metadata": {
        "id": "cTwGhdK1umVb"
      },
      "source": [
        "x_train.shape"
      ],
      "execution_count": null,
      "outputs": []
    },
    {
      "cell_type": "markdown",
      "metadata": {
        "id": "sfqU1DX-ZFgl"
      },
      "source": [
        "Let's inspect one of the images in this dataset."
      ]
    },
    {
      "cell_type": "code",
      "metadata": {
        "id": "3qISwc16TnL7"
      },
      "source": [
        "import matplotlib.pyplot as plt\n",
        "\n",
        "plt.imshow(x_train[0])"
      ],
      "execution_count": null,
      "outputs": []
    },
    {
      "cell_type": "markdown",
      "metadata": {
        "id": "igbablnRjAIR"
      },
      "source": [
        "Notice that the pixel values are 8-bit integers, but the input to neural networks needs to be floats. The code below normalizes the images so that the values are floats."
      ]
    },
    {
      "cell_type": "code",
      "metadata": {
        "id": "1QuvwEgOu7ka"
      },
      "source": [
        "x_train_float = x_train / 255\n",
        "x_test_float = x_test / 255"
      ],
      "execution_count": null,
      "outputs": []
    },
    {
      "cell_type": "markdown",
      "metadata": {
        "id": "LdNhQEFWwMQz"
      },
      "source": [
        "To keep things simple, we will focus on binary classification: let's distinguish 5s from other numbers."
      ]
    },
    {
      "cell_type": "code",
      "metadata": {
        "id": "S4VAoPWMwPwx"
      },
      "source": [
        "y_train = 1 * (y_train == 5)\n",
        "y_test = 1 * (y_test == 5)"
      ],
      "execution_count": null,
      "outputs": []
    },
    {
      "cell_type": "markdown",
      "metadata": {
        "id": "z0FZ9qwJj4qE"
      },
      "source": [
        "Now, we will fit a standard convolutional neural network (CNN) architecture called [LeNet](https://en.wikipedia.org/wiki/LeNet) to this data. This architecture was developed by Yann LeCun in 1989 for this specific data set.\n",
        "\n",
        "The very first layer of this network is a 2D convolution. We can use the Keras layer `Conv2D`. If you look at the [documentation](https://www.tensorflow.org/api_docs/python/tf/keras/layers/Conv2D), `Conv2D` expects a 4-D tensor as input.\n",
        "\n",
        "Right now, our input `x_train` and `x_test` only has 3 dimensions.\n",
        "\n",
        "- 1 dimension for the examples\n",
        "- 1 dimension for the height\n",
        "- 1 dimension for the width\n",
        "\n",
        "What is the 4th dimension? We need to create a dummy 4th dimension."
      ]
    },
    {
      "cell_type": "code",
      "metadata": {
        "id": "5yhQ8n2s0_Af"
      },
      "source": [
        "x_train_float = x_train_float[:, :, :, np.newaxis]\n",
        "x_test_float = x_test_float[:, :, :, np.newaxis]\n",
        "\n",
        "x_train_float.shape"
      ],
      "execution_count": null,
      "outputs": []
    },
    {
      "cell_type": "markdown",
      "metadata": {
        "id": "gIuArlbkQLUs"
      },
      "source": [
        "Now we are ready to define the model. A convolutional neural network usually begins with alternating convolutional and pooling layers.\n",
        "\n",
        "To do the convolution, we use [`Conv2D`](https://www.tensorflow.org/api_docs/python/tf/keras/layers/Conv2D) in Keras. LeNet uses average pooling, which is [`AvgPool2D`](https://www.tensorflow.org/api_docs/python/tf/keras/layers/AvgPool2D) in Keras."
      ]
    },
    {
      "cell_type": "code",
      "metadata": {
        "id": "Ef8jlNm9jhcv"
      },
      "source": [
        "model = tf.keras.models.Sequential([\n",
        "  layers.Conv2D(filters=6, kernel_size=(5, 5), strides=(1, 1), padding=\"same\",\n",
        "                activation=\"sigmoid\"),\n",
        "  layers.AvgPool2D(pool_size=(2, 2), strides=(2, 2)),\n",
        "  layers.Conv2D(filters=16, kernel_size=(5, 5), strides=(1, 1), padding=\"valid\",\n",
        "                activation=\"sigmoid\"),\n",
        "  layers.AvgPool2D(pool_size=(2, 2), strides=(2, 2)),\n",
        "  layers.Flatten(),\n",
        "  layers.Dense(120, activation=\"sigmoid\"),\n",
        "  layers.Dense(84, activation=\"sigmoid\"),\n",
        "  layers.Dense(1)\n",
        "])\n",
        "\n",
        "model.compile(\n",
        "    optimizer=tf.keras.optimizers.Adam(0.001),\n",
        "    loss=tf.keras.losses.BinaryCrossentropy(from_logits=True),\n",
        "    metrics=[\"accuracy\"],\n",
        ")"
      ],
      "execution_count": null,
      "outputs": []
    },
    {
      "cell_type": "markdown",
      "metadata": {
        "id": "iz6R8whrzELH"
      },
      "source": [
        "Now we are ready to fit the model to data."
      ]
    },
    {
      "cell_type": "code",
      "metadata": {
        "id": "OBKEMjBpqq3Y"
      },
      "source": [
        "model.fit(x_train_float, y_train,\n",
        "          epochs=3,\n",
        "          batch_size=30,\n",
        "          validation_data=(x_test_float, y_test))"
      ],
      "execution_count": null,
      "outputs": []
    },
    {
      "cell_type": "markdown",
      "metadata": {
        "id": "KNIX5nay1uAi"
      },
      "source": [
        "You can print out a description of your model, which can help you debug your network."
      ]
    },
    {
      "cell_type": "code",
      "metadata": {
        "id": "02zu9K_dyicq"
      },
      "source": [
        "model.summary()"
      ],
      "execution_count": null,
      "outputs": []
    },
    {
      "cell_type": "markdown",
      "metadata": {
        "id": "PpxOluUfSJBe"
      },
      "source": [
        "## Exercise\n",
        "\n",
        "In modern convolutional neural networks (CNNs), max pooling ([`MaxPool2D`](https://www.tensorflow.org/api_docs/python/tf/keras/layers/MaxPool2D)) is used instead of average pooling. Since `max()` is a nonlinear function, this eliminates the need for an activation function between the convolution and pooling layers.\n",
        "\n",
        "Modify the LeNet architecture above to use max pooling instead of average pooling. Train this network on the same data. How do the results compare?"
      ]
    },
    {
      "cell_type": "code",
      "metadata": {
        "id": "FgFLmhwMSIyH"
      },
      "source": [
        "# YOUR CODE HERE"
      ],
      "execution_count": null,
      "outputs": []
    }
  ]
}